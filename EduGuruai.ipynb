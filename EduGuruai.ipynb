{
  "nbformat": 4,
  "nbformat_minor": 0,
  "metadata": {
    "colab": {
      "provenance": [],
      "authorship_tag": "ABX9TyPtWU78R2wQSsKhiAeNvkvm",
      "include_colab_link": true
    },
    "kernelspec": {
      "name": "python3",
      "display_name": "Python 3"
    },
    "language_info": {
      "name": "python"
    }
  },
  "cells": [
    {
      "cell_type": "markdown",
      "metadata": {
        "id": "view-in-github",
        "colab_type": "text"
      },
      "source": [
        "<a href=\"https://colab.research.google.com/github/Yash19X/node/blob/main/EduGuruai.ipynb\" target=\"_parent\"><img src=\"https://colab.research.google.com/assets/colab-badge.svg\" alt=\"Open In Colab\"/></a>"
      ]
    },
    {
      "cell_type": "code",
      "execution_count": 2,
      "metadata": {
        "colab": {
          "base_uri": "https://localhost:8080/",
          "height": 106
        },
        "id": "MZU5WdF1O25f",
        "outputId": "e9aed42b-1396-4b88-bf72-dc202f054aca"
      },
      "outputs": [
        {
          "output_type": "error",
          "ename": "IndentationError",
          "evalue": "unexpected indent (ipython-input-656897389.py, line 20)",
          "traceback": [
            "\u001b[0;36m  File \u001b[0;32m\"/tmp/ipython-input-656897389.py\"\u001b[0;36m, line \u001b[0;32m20\u001b[0m\n\u001b[0;31m    def chat_with_ai(user_input, history):\u001b[0m\n\u001b[0m    ^\u001b[0m\n\u001b[0;31mIndentationError\u001b[0m\u001b[0;31m:\u001b[0m unexpected indent\n"
          ]
        }
      ],
      "source": [
        "# Install dependencies (only first time)\n",
        "!pip install gradio transformers accelerate sentencepiece\n",
        "\n",
        "import gradio as gr\n",
        "from transformers import AutoModelForCausalLM, AutoTokenizer\n",
        "\n",
        "# Choose a small open-source model (free on Hugging Face)\n",
        "# Options: \"mistralai/Mistral-7B-Instruct-v0.2\" or \"meta-llama/Meta-Llama-3-8B-Instruct\"\n",
        "model_name = \"mistralai/Mistral-7B-Instruct-v0.2\"\n",
        "\n",
        "# Load model + tokenizer\n",
        "tokenizer = AutoTokenizer.from_pretrained(model_name)\n",
        "model = AutoModelForCausalLM.from_pretrained(\n",
        "    model_name,\n",
        "        device_map=\"auto\",\n",
        "            torch_dtype=\"auto\"\n",
        "            )\n",
        "\n",
        "            # Function for chatbot\n",
        "            def chat_with_ai(user_input, history):\n",
        "                # Add system instruction: act like a teacher\n",
        "                    prompt = f\"You are EduGuruAI, an AI tutor. Explain concepts clearly like a teacher.\\n\\nUser: {user_input}\\nEduGuruAI:\"\n",
        "                        inputs = tokenizer(prompt, return_tensors=\"pt\").to(model.device)\n",
        "                            outputs = model.generate(\n",
        "                                    **inputs,\n",
        "                                            max_new_tokens=500,\n",
        "                                                    temperature=0.7,\n",
        "                                                            top_p=0.9\n",
        "                                                                )\n",
        "                                                                    reply = tokenizer.decode(outputs[0], skip_special_tokens=True)\n",
        "                                                                        return reply.split(\"EduGuruAI:\")[-1].strip()\n",
        "\n",
        "                                                                        # Gradio UI\n",
        "                                                                        with gr.Blocks() as demo:\n",
        "                                                                            gr.Markdown(\"# 📚 EduGuruAI – Your Personal AI Tutor\")\n",
        "                                                                                chatbot = gr.Chatbot()\n",
        "                                                                                    msg = gr.Textbox(placeholder=\"Ask me any question... (e.g. Explain Newton's Laws)\")\n",
        "                                                                                        clear = gr.Button(\"Clear Chat\")\n",
        "\n",
        "                                                                                            def user_message(user_input, history):\n",
        "                                                                                                    history = history + [(user_input, chat_with_ai(user_input, history))]\n",
        "                                                                                                            return history, \"\"\n",
        "\n",
        "                                                                                                                msg.submit(user_message, [msg, chatbot], [chatbot, msg])\n",
        "                                                                                                                    clear.click(lambda: None, None, chatbot, queue=False)\n",
        "\n",
        "                                                                                                                    demo.launch()"
      ]
    }
  ]
}